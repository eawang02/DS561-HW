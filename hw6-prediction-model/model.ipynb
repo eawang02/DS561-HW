{
 "cells": [
  {
   "cell_type": "code",
   "execution_count": 251,
   "metadata": {},
   "outputs": [],
   "source": [
    "import pandas as pd\n",
    "import numpy as np\n",
    "import random\n",
    "from sklearn.model_selection import train_test_split\n",
    "from sklearn.tree import DecisionTreeClassifier\n",
    "from sklearn.preprocessing import LabelEncoder\n",
    "from sklearn.metrics import accuracy_score"
   ]
  },
  {
   "cell_type": "code",
   "execution_count": 2,
   "metadata": {},
   "outputs": [],
   "source": [
    "list_of_countries = [ 'Afghanistan', 'Albania', 'Algeria', 'Andorra',\n",
    "                      'Angola', 'Antigua and Barbuda', 'Argentina', 'Armenia',\n",
    "                      'Australia', 'Austria', 'Azerbaijan', 'Bahamas', 'Bahrain',\n",
    "                      'Bangladesh', 'Barbados', 'Belarus', 'Belgium', 'Belize', 'Benin',\n",
    "                      'Bhutan', 'Bolivia', 'Bosnia and Herzegovina', 'Botswana',\n",
    "                      'Brazil', 'Brunei', 'Bulgaria', 'Burkina Faso', 'Burundi', 'Cabo Verde',\n",
    "                      'Cambodia', 'Cameroon', 'Canada', 'Central African Republic',\n",
    "                      'Chad', 'Chile', 'China', 'Colombia', 'Comoros',\n",
    "                      'Congo, Democratic Republic of the', 'Congo, Republic of the',\n",
    "                      'Costa Rica', 'Cote dIvoire', 'Croatia', 'Cuba', 'Cyprus',\n",
    "                      'Czechia', 'Denmark', 'Djibouti', 'Dominica', 'Dominican Republic',\n",
    "                      'Ecuador', 'Egypt', 'El Salvador', 'Equatorial Guinea',\n",
    "                      'Eritrea', 'Estonia', 'Eswatini', 'Ethiopia', 'Fiji', 'Finland',\n",
    "                      'France', 'Gabon', 'Gambia', 'Georgia', 'Germany', 'Ghana',\n",
    "                      'Greece', 'Grenada', 'Guatemala', 'Guinea', 'Guinea-Bissau',\n",
    "                      'Guyana', 'Haiti', 'Honduras', 'Hungary', 'Iceland', 'India',\n",
    "                      'Indonesia', 'Iran', 'Iraq', 'Ireland', 'Israel', 'Italy',\n",
    "                      'Jamaica', 'Japan', 'Jordan', 'Kazakhstan', 'Kenya', 'Kiribati',\n",
    "                      'Kosovo', 'Kuwait', 'Kyrgyzstan', 'Laos', 'Latvia', 'Lebanon',\n",
    "                      'Lesotho', 'Liberia', 'Libya', 'Liechtenstein', 'Lithuania',\n",
    "                      'Luxembourg', 'Madagascar', 'Malawi', 'Malaysia', 'Maldives',\n",
    "                      'Mali', 'Malta', 'Marshall Islands', 'Mauritania', 'Mauritius',\n",
    "                      'Mexico', 'Micronesia', 'Moldova', 'Monaco', 'Mongolia',\n",
    "                      'Montenegro', 'Morocco', 'Mozambique', 'Myanmar', 'Namibia',\n",
    "                      'Nauru', 'Nepal', 'Netherlands', 'New Zealand', 'Nicaragua',\n",
    "                      'Niger', 'Nigeria', 'North Korea', 'North Macedonia', 'Norway',\n",
    "                      'Oman', 'Pakistan', 'Palau', 'Palestine', 'Panama',\n",
    "                      'Papua New Guinea', 'Paraguay', 'Peru', 'Philippines', 'Poland', 'Portugal',\n",
    "                      'Qatar', 'Romania', 'Russia', 'Rwanda', 'Saint Kitts and Nevis',\n",
    "                      'Saint Lucia', 'Saint Vincent and the Grenadines', 'Samoa',\n",
    "                      'San Marino', 'Sao Tome and Principe', 'Saudi Arabia', 'Senegal',\n",
    "                      'Serbia', 'Seychelles', 'Sierra Leone', 'Singapore', 'Slovakia',\n",
    "                      'Slovenia', 'Solomon Islands', 'Somalia', 'South Africa', 'South Korea',\n",
    "                      'South Sudan', 'Spain', 'Sri Lanka', 'Sudan', 'Suriname',\n",
    "                      'Sweden', 'Switzerland', 'Syria', 'Taiwan', 'Tajikistan',\n",
    "                      'Tanzania', 'Thailand', 'Timor-Leste', 'Togo', 'Tonga',\n",
    "                      'Trinidad and Tobago', 'Tunisia', 'Turkey', 'Turkmenistan', 'Tuvalu',\n",
    "                      'Uganda', 'Ukraine', 'United Arab Emirates (UAE)', 'United Kingdom',\n",
    "                      'United States of America (USA)', 'Uruguay', 'Uzbekistan',\n",
    "                      'Vanuatu', 'Vatican City (Holy See)', 'Venezuela', 'Vietnam',\n",
    "                      'Yemen', 'Zambia', 'Zimbabwe' ]"
   ]
  },
  {
   "cell_type": "markdown",
   "metadata": {},
   "source": [
    "## Preprocessing Data"
   ]
  },
  {
   "cell_type": "code",
   "execution_count": 12,
   "metadata": {},
   "outputs": [
    {
     "data": {
      "text/html": [
       "<div>\n",
       "<style scoped>\n",
       "    .dataframe tbody tr th:only-of-type {\n",
       "        vertical-align: middle;\n",
       "    }\n",
       "\n",
       "    .dataframe tbody tr th {\n",
       "        vertical-align: top;\n",
       "    }\n",
       "\n",
       "    .dataframe thead th {\n",
       "        text-align: right;\n",
       "    }\n",
       "</style>\n",
       "<table border=\"1\" class=\"dataframe\">\n",
       "  <thead>\n",
       "    <tr style=\"text-align: right;\">\n",
       "      <th></th>\n",
       "      <th>country</th>\n",
       "      <th>client_ip</th>\n",
       "    </tr>\n",
       "  </thead>\n",
       "  <tbody>\n",
       "    <tr>\n",
       "      <th>0</th>\n",
       "      <td>'Bosnia and Herzegovina'</td>\n",
       "      <td>113.98.85.159</td>\n",
       "    </tr>\n",
       "    <tr>\n",
       "      <th>1</th>\n",
       "      <td>'Bosnia and Herzegovina'</td>\n",
       "      <td>113.98.85.159</td>\n",
       "    </tr>\n",
       "    <tr>\n",
       "      <th>2</th>\n",
       "      <td>'Italy'</td>\n",
       "      <td>8.85.80.204</td>\n",
       "    </tr>\n",
       "    <tr>\n",
       "      <th>3</th>\n",
       "      <td>'Italy'</td>\n",
       "      <td>8.85.80.204</td>\n",
       "    </tr>\n",
       "    <tr>\n",
       "      <th>4</th>\n",
       "      <td>'Armenia'</td>\n",
       "      <td>118.236.54.33</td>\n",
       "    </tr>\n",
       "    <tr>\n",
       "      <th>5</th>\n",
       "      <td>'Armenia'</td>\n",
       "      <td>118.236.54.33</td>\n",
       "    </tr>\n",
       "    <tr>\n",
       "      <th>6</th>\n",
       "      <td>'Somalia'</td>\n",
       "      <td>69.16.53.130</td>\n",
       "    </tr>\n",
       "    <tr>\n",
       "      <th>7</th>\n",
       "      <td>'Somalia'</td>\n",
       "      <td>69.16.53.130</td>\n",
       "    </tr>\n",
       "    <tr>\n",
       "      <th>8</th>\n",
       "      <td>'Zambia'</td>\n",
       "      <td>57.114.149.136</td>\n",
       "    </tr>\n",
       "    <tr>\n",
       "      <th>9</th>\n",
       "      <td>'Zambia'</td>\n",
       "      <td>57.114.149.136</td>\n",
       "    </tr>\n",
       "  </tbody>\n",
       "</table>\n",
       "</div>"
      ],
      "text/plain": [
       "                    country       client_ip\n",
       "0  'Bosnia and Herzegovina'   113.98.85.159\n",
       "1  'Bosnia and Herzegovina'   113.98.85.159\n",
       "2                   'Italy'     8.85.80.204\n",
       "3                   'Italy'     8.85.80.204\n",
       "4                 'Armenia'   118.236.54.33\n",
       "5                 'Armenia'   118.236.54.33\n",
       "6                 'Somalia'    69.16.53.130\n",
       "7                 'Somalia'    69.16.53.130\n",
       "8                  'Zambia'  57.114.149.136\n",
       "9                  'Zambia'  57.114.149.136"
      ]
     },
     "execution_count": 12,
     "metadata": {},
     "output_type": "execute_result"
    }
   ],
   "source": [
    "## Fetch data and preprocess\n",
    "raw_data = pd.read_csv('data.csv', on_bad_lines='skip')\n",
    "ip_model_data = raw_data.drop(['id', 'gender', 'age', 'income', 'is_banned', 'time_of_day', 'requested_file'], axis=1)\n",
    "ip_model_data.head(10)"
   ]
  },
  {
   "cell_type": "code",
   "execution_count": 14,
   "metadata": {},
   "outputs": [
    {
     "data": {
      "text/html": [
       "<div>\n",
       "<style scoped>\n",
       "    .dataframe tbody tr th:only-of-type {\n",
       "        vertical-align: middle;\n",
       "    }\n",
       "\n",
       "    .dataframe tbody tr th {\n",
       "        vertical-align: top;\n",
       "    }\n",
       "\n",
       "    .dataframe thead th {\n",
       "        text-align: right;\n",
       "    }\n",
       "</style>\n",
       "<table border=\"1\" class=\"dataframe\">\n",
       "  <thead>\n",
       "    <tr style=\"text-align: right;\">\n",
       "      <th></th>\n",
       "      <th>country</th>\n",
       "      <th>octet1</th>\n",
       "      <th>octet2</th>\n",
       "      <th>octet3</th>\n",
       "    </tr>\n",
       "  </thead>\n",
       "  <tbody>\n",
       "    <tr>\n",
       "      <th>0</th>\n",
       "      <td>'Bosnia and Herzegovina'</td>\n",
       "      <td>113</td>\n",
       "      <td>98</td>\n",
       "      <td>85</td>\n",
       "    </tr>\n",
       "    <tr>\n",
       "      <th>1</th>\n",
       "      <td>'Bosnia and Herzegovina'</td>\n",
       "      <td>113</td>\n",
       "      <td>98</td>\n",
       "      <td>85</td>\n",
       "    </tr>\n",
       "    <tr>\n",
       "      <th>2</th>\n",
       "      <td>'Italy'</td>\n",
       "      <td>8</td>\n",
       "      <td>85</td>\n",
       "      <td>80</td>\n",
       "    </tr>\n",
       "    <tr>\n",
       "      <th>3</th>\n",
       "      <td>'Italy'</td>\n",
       "      <td>8</td>\n",
       "      <td>85</td>\n",
       "      <td>80</td>\n",
       "    </tr>\n",
       "    <tr>\n",
       "      <th>4</th>\n",
       "      <td>'Armenia'</td>\n",
       "      <td>118</td>\n",
       "      <td>236</td>\n",
       "      <td>54</td>\n",
       "    </tr>\n",
       "    <tr>\n",
       "      <th>5</th>\n",
       "      <td>'Armenia'</td>\n",
       "      <td>118</td>\n",
       "      <td>236</td>\n",
       "      <td>54</td>\n",
       "    </tr>\n",
       "    <tr>\n",
       "      <th>6</th>\n",
       "      <td>'Somalia'</td>\n",
       "      <td>69</td>\n",
       "      <td>16</td>\n",
       "      <td>53</td>\n",
       "    </tr>\n",
       "    <tr>\n",
       "      <th>7</th>\n",
       "      <td>'Somalia'</td>\n",
       "      <td>69</td>\n",
       "      <td>16</td>\n",
       "      <td>53</td>\n",
       "    </tr>\n",
       "    <tr>\n",
       "      <th>8</th>\n",
       "      <td>'Zambia'</td>\n",
       "      <td>57</td>\n",
       "      <td>114</td>\n",
       "      <td>149</td>\n",
       "    </tr>\n",
       "    <tr>\n",
       "      <th>9</th>\n",
       "      <td>'Zambia'</td>\n",
       "      <td>57</td>\n",
       "      <td>114</td>\n",
       "      <td>149</td>\n",
       "    </tr>\n",
       "  </tbody>\n",
       "</table>\n",
       "</div>"
      ],
      "text/plain": [
       "                    country octet1 octet2 octet3\n",
       "0  'Bosnia and Herzegovina'    113     98     85\n",
       "1  'Bosnia and Herzegovina'    113     98     85\n",
       "2                   'Italy'      8     85     80\n",
       "3                   'Italy'      8     85     80\n",
       "4                 'Armenia'    118    236     54\n",
       "5                 'Armenia'    118    236     54\n",
       "6                 'Somalia'     69     16     53\n",
       "7                 'Somalia'     69     16     53\n",
       "8                  'Zambia'     57    114    149\n",
       "9                  'Zambia'     57    114    149"
      ]
     },
     "execution_count": 14,
     "metadata": {},
     "output_type": "execute_result"
    }
   ],
   "source": [
    "# Split every ip into the individual octets\n",
    "ip_model_data[['octet1', 'octet2', 'octet3', 'octet4']] = ip_model_data['client_ip'].str.split('.', expand=True)\n",
    "ip_model_data = ip_model_data.drop(['client_ip', 'octet4'], axis=1)\n",
    "ip_model_data.head(10)"
   ]
  },
  {
   "cell_type": "markdown",
   "metadata": {},
   "source": [
    "### Predicting Country from Client_IP"
   ]
  },
  {
   "cell_type": "code",
   "execution_count": 67,
   "metadata": {},
   "outputs": [],
   "source": [
    "# Split into train and test set\n",
    "ip_train, ip_test = train_test_split(ip_model_data, test_size=0.25)\n",
    "\n",
    "# Use LabelEncoder to convert countries to labels\n",
    "le = LabelEncoder()\n",
    "le.fit(ip_model_data['country'])\n",
    "ip_train['country'] = le.transform(ip_train['country'])\n",
    "ip_test['country'] = le.transform(ip_test['country'])\n"
   ]
  },
  {
   "cell_type": "code",
   "execution_count": 68,
   "metadata": {},
   "outputs": [],
   "source": [
    "X_train = ip_train.drop('country', axis=1)\n",
    "y_train = ip_train['country']\n",
    "\n",
    "X_test = ip_test.drop('country', axis=1)\n",
    "y_test = ip_test['country']"
   ]
  },
  {
   "cell_type": "code",
   "execution_count": 69,
   "metadata": {},
   "outputs": [
    {
     "name": "stdout",
     "output_type": "stream",
     "text": [
      "Predicting country from client_ip...\n",
      "Model testing accuracy: 1.0\n"
     ]
    }
   ],
   "source": [
    "# Use a DecisionTreeClassifier to classify new data rows\n",
    "clf = DecisionTreeClassifier()\n",
    "clf.fit(X_train, y_train)\n",
    "\n",
    "y_predict = clf.predict(X_test)\n",
    "print(\"Predicting country from client_ip...\")\n",
    "print(\"Model testing accuracy:\", accuracy_score(y_test, y_predict))"
   ]
  },
  {
   "cell_type": "markdown",
   "metadata": {},
   "source": [
    "### Predicting Income"
   ]
  },
  {
   "cell_type": "code",
   "execution_count": 83,
   "metadata": {},
   "outputs": [],
   "source": [
    "income_model_data = raw_data.drop(['id', 'is_banned', 'time_of_day'], axis=1)\n",
    "\n",
    "# Encode labels for country, gender, age, requested_file, client_ip, and income\n",
    "income_model_data['country'] = le.transform(income_model_data['country'])\n",
    "\n",
    "ip_le = LabelEncoder()\n",
    "ip_le.fit(income_model_data['client_ip'])\n",
    "income_model_data['client_ip'] = ip_le.transform(income_model_data['client_ip'])\n",
    "\n",
    "income_model_data['gender'] = income_model_data['gender'].map({'Male': 0, 'Female': 1})\n",
    "\n",
    "age_le = LabelEncoder()\n",
    "age_le.fit(income_model_data['age'])\n",
    "income_model_data['age'] = age_le.transform(income_model_data['age'])\n",
    "\n",
    "income_model_data['requested_file'] = income_model_data['requested_file'].map(lambda x: x.split('.')[0])\n",
    "\n",
    "income_le = LabelEncoder()\n",
    "income_le.fit(income_model_data['income'])\n",
    "income_model_data['income'] = income_le.transform(income_model_data['income'])\n",
    "\n",
    "income_train, income_test = train_test_split(income_model_data, test_size=0.25)\n",
    "\n",
    "X_train = income_train.drop('income', axis=1)\n",
    "y_train = income_train['income']\n",
    "X_test = income_test.drop('income', axis=1)\n",
    "y_test = income_test['income']"
   ]
  },
  {
   "cell_type": "code",
   "execution_count": 245,
   "metadata": {},
   "outputs": [],
   "source": [
    "# Creating custom IncomeModel class\n",
    "# Strategy: If we're tested on a data point that is an exact duplicate of a row in our training data,\n",
    "#   predict the income of that data point. Otherwise, use the DecisionTreeClassifier\n",
    "class IncomeModel():\n",
    "\n",
    "    def __init__(self):\n",
    "        self.clf = DecisionTreeClassifier()\n",
    "\n",
    "    def fit(self, train_data, train_labels):\n",
    "        self.X_train = train_data\n",
    "        self.y_train = train_labels\n",
    "        self.clf.fit(self.X_train, self.y_train)\n",
    "\n",
    "    def predict(self, test_data):\n",
    "        clf_predict = self.clf.predict(test_data)\n",
    "\n",
    "        predictions = []\n",
    "\n",
    "        for i in test_data.index:\n",
    "            row = test_data.loc[i]\n",
    "            matches = (self.X_train == row).all(1)\n",
    "            if matches.any():\n",
    "                j = matches[matches].index[0]\n",
    "                predictions.append(self.y_train.loc[j])\n",
    "            else:\n",
    "                idx = test_data.index.get_loc(i)\n",
    "                predictions.append(clf_predict[idx])\n",
    "\n",
    "        return predictions\n"
   ]
  },
  {
   "cell_type": "code",
   "execution_count": 214,
   "metadata": {},
   "outputs": [
    {
     "name": "stdout",
     "output_type": "stream",
     "text": [
      "Predicting income...\n",
      "Model testing accuracy: 0.7754170537625722\n",
      "[0.13822572 0.33648096 0.05081727 0.1167285  0.35774755]\n"
     ]
    }
   ],
   "source": [
    "# Using normal DecisionTreeClassifier for ALL predictions\n",
    "# Results in accuracy of approximately 77.5%\n",
    "clf = DecisionTreeClassifier()\n",
    "clf.fit(X_train, y_train)\n",
    "\n",
    "y_predict = clf.predict(X_test)\n",
    "print(\"Predicting income...\")\n",
    "print(\"Model testing accuracy:\", accuracy_score(y_test, y_predict))\n",
    "print(clf.feature_importances_)"
   ]
  },
  {
   "cell_type": "code",
   "execution_count": 246,
   "metadata": {},
   "outputs": [
    {
     "name": "stdout",
     "output_type": "stream",
     "text": [
      "Predicting income...\n",
      "Model testing accuracy: 0.7756594094599507\n"
     ]
    }
   ],
   "source": [
    "# Using IncomeModel for our predictions (see above class for explanation)\n",
    "# Results in accuracy of approximately 77.5%\n",
    "model = IncomeModel()\n",
    "model.fit(X_train, y_train)\n",
    "model_predict = model.predict(X_test)\n",
    "\n",
    "print(\"Predicting income...\")\n",
    "print(\"Model testing accuracy:\", accuracy_score(y_test, model_predict))"
   ]
  },
  {
   "cell_type": "code",
   "execution_count": 249,
   "metadata": {},
   "outputs": [],
   "source": [
    "# Creating second custom IncomeModel class\n",
    "# Strategy: If we're tested on a data point that is an exact duplicate of a row in our training data,\n",
    "#   predict the income of that data point. Otherwise, predict RANDOMLY\n",
    "class IncomeModel2():\n",
    "\n",
    "    def __init__(self):\n",
    "        pass\n",
    "\n",
    "    def fit(self, train_data, train_labels):\n",
    "        self.X_train = train_data\n",
    "        self.y_train = train_labels\n",
    "\n",
    "    def predict(self, test_data):\n",
    "        predictions = []\n",
    "\n",
    "        for i in test_data.index:\n",
    "            row = test_data.loc[i]\n",
    "            matches = (self.X_train == row).all(1)\n",
    "            if matches.any():\n",
    "                j = matches[matches].index[0]\n",
    "                predictions.append(self.y_train.loc[j])\n",
    "            else:\n",
    "                predictions.append(random.randrange(0, 8))\n",
    "\n",
    "        return predictions"
   ]
  },
  {
   "cell_type": "code",
   "execution_count": 252,
   "metadata": {},
   "outputs": [
    {
     "name": "stdout",
     "output_type": "stream",
     "text": [
      "Predicting income...\n",
      "Model testing accuracy: 0.7751746980651937\n"
     ]
    }
   ],
   "source": [
    "# Using IncomeModel2 for our predictions (see above class for explanation)\n",
    "# Results in accuracy of approximately 77.5%\n",
    "model2 = IncomeModel2()\n",
    "model2.fit(X_train, y_train)\n",
    "model2_predict = model2.predict(X_test)\n",
    "\n",
    "print(\"Predicting income...\")\n",
    "print(\"Model testing accuracy:\", accuracy_score(y_test, model2_predict))"
   ]
  }
 ],
 "metadata": {
  "kernelspec": {
   "display_name": "env",
   "language": "python",
   "name": "python3"
  },
  "language_info": {
   "codemirror_mode": {
    "name": "ipython",
    "version": 3
   },
   "file_extension": ".py",
   "mimetype": "text/x-python",
   "name": "python",
   "nbconvert_exporter": "python",
   "pygments_lexer": "ipython3",
   "version": "3.9.17"
  }
 },
 "nbformat": 4,
 "nbformat_minor": 2
}
